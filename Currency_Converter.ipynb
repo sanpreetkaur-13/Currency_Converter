{
 "cells": [
  {
   "cell_type": "code",
   "execution_count": 1,
   "metadata": {},
   "outputs": [],
   "source": [
    "import requests\n",
    "from tkinter import *\n",
    "import tkinter as tk\n",
    "from tkinter import ttk"
   ]
  },
  {
   "cell_type": "code",
   "execution_count": 10,
   "metadata": {},
   "outputs": [],
   "source": [
    "root = Tk()\n",
    "variable1 = StringVar(root)\n",
    "variable2 = StringVar(root)\n",
    "variable1.set(\"currency\")\n",
    "variable2.set(\"currency\")\n",
    "def RealTimeCurrencyConversion():\n",
    "    from_currency = variable1.get()\n",
    "    to_currency = variable2.get()\n",
    "    api_key = \"Your_Api_Key\"\n",
    "    base_url = r\"https://www.alphavantage.co/query?function = CURRENCY_EXCHANGE_RATE\"\n",
    "    main_url = base_url + \"&from_currency =\" + from_currency + \"&to_currency =\" + to_currency + \"&apikey =\" + api_key\n",
    "    req_ob = requests.get(main_url)\n",
    "  \n",
    "    result = req_ob.json()\n",
    "    Exchange_Rate = float(result[\"Realtime Currency Exchange Rate\"]\n",
    "                                              ['5. Exchange Rate'])\n",
    "    amount = float(Amount1_field.get())\n",
    "    new_amount = round(amount * Exchange_Rate, 3)\n",
    "    Amount2_field.insert(0, str(new_amount))\n",
    "def clear_all() :\n",
    "    Amount1_field.delete(0, END) \n",
    "    Amount2_field.delete(0, END)\n",
    "if __name__ == \"__main__\" :\n",
    "    root.configure(background = 'light green') \n",
    "    root.geometry(\"400x175\") \n",
    "    headlabel = Label(root, text = 'welcome to Real Time Currency Convertor', \n",
    "                      fg = 'black', bg = \"red\") \n",
    "    label1 = Label(root, text = \"Amount :\",\n",
    "                 fg = 'black', bg = 'dark green')\n",
    "    label2 = Label(root, text = \"From Currency\", \n",
    "                   fg = 'black', bg = 'dark green') \n",
    "    label3 = Label(root, text = \"To Currency :\", \n",
    "                   fg = 'black', bg = 'dark green')\n",
    "    label4 = Label(root, text = \"Converted Amount :\", \n",
    "                   fg = 'black', bg = 'dark green')\n",
    "    headlabel.grid(row = 0, column = 1) \n",
    "    label1.grid(row = 1, column = 0) \n",
    "    label2.grid(row = 2, column = 0)\n",
    "    label3.grid(row = 3, column = 0)\n",
    "    label4.grid(row = 5, column = 0)\n",
    "    Amount1_field = Entry(root) \n",
    "    Amount2_field = Entry(root)\n",
    "    Amount1_field.grid(row = 1, column = 1, ipadx =\"25\") \n",
    "    Amount2_field.grid(row = 5, column = 1, ipadx =\"25\")\n",
    "    CurrenyCode_list = [\"INR\", \"USD\", \"CAD\", \"CNY\", \"DKK\", \"EUR\"]\n",
    "    FromCurrency_option = OptionMenu(root, variable1, *CurrenyCode_list)\n",
    "    ToCurrency_option = OptionMenu(root, variable2, *CurrenyCode_list)\n",
    "    FromCurrency_option.grid(row = 2, column = 1, ipadx = 10)\n",
    "    ToCurrency_option.grid(row = 3, column = 1, ipadx = 10)\n",
    "    button1 = Button(root, text = \"Convert\", bg = \"red\", fg = \"black\",\n",
    "                                command = RealTimeCurrencyConversion)\n",
    "    button1.grid(row = 4, column = 1)\n",
    "    button2 = Button(root, text = \"Clear\", bg = \"red\", \n",
    "                     fg = \"black\", command = clear_all)\n",
    "    button2.grid(row = 6, column = 1)\n",
    "    root.mainloop() "
   ]
  },
  {
   "cell_type": "code",
   "execution_count": null,
   "metadata": {},
   "outputs": [],
   "source": []
  }
 ],
 "metadata": {
  "kernelspec": {
   "display_name": "Python 3",
   "language": "python",
   "name": "python3"
  },
  "language_info": {
   "codemirror_mode": {
    "name": "ipython",
    "version": 3
   },
   "file_extension": ".py",
   "mimetype": "text/x-python",
   "name": "python",
   "nbconvert_exporter": "python",
   "pygments_lexer": "ipython3",
   "version": "3.7.6"
  }
 },
 "nbformat": 4,
 "nbformat_minor": 4
}
